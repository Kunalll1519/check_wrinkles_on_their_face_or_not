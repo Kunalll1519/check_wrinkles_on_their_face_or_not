{
 "cells": [
  {
   "cell_type": "code",
   "execution_count": null,
   "metadata": {
    "scrolled": false
   },
   "outputs": [],
   "source": [
    "import cv2\n",
    "import numpy as np\n",
    "from matplotlib import pyplot as plt\n",
    "from IPython.display import display, Image\n",
    "\n",
    "#creating facecascade\n",
    "face_cascade = cv2.CascadeClassifier(\"C:\\\\Users\\\\KUNAL AMBRE\\\\OneDrive\\\\Desktop\\\\Kunalll2\\\\Wrinkles-Detection-master\\\\haarcascade_frontalface_default.xml\")\n",
    "display(Image(filename=\"C:\\\\Users\\\\KUNAL AMBRE\\\\OneDrive\\\\Desktop\\\\Kunalll2\\\\Wrinkles-Detection-master\\\\face.jpg\"))\n",
    "\n",
    "#loading image to matrix\n",
    "img = cv2.imread(\"C:\\\\Users\\\\KUNAL AMBRE\\\\OneDrive\\\\Desktop\\\\Kunalll2\\\\Wrinkles-Detection-master\\\\face.jpg\")\n",
    "\n",
    "#converting into grayscale image\n",
    "gray_img = cv2.cvtColor(img, cv2.COLOR_BGR2GRAY)\n",
    "faces = face_cascade.detectMultiScale(gray_img, scaleFactor=1.05, minNeighbors=10)\n",
    "for x, y, w, h in faces:\n",
    "    cropped_img = img[y:y+h, x:x+w]\n",
    "    edges = cv2.Canny(cropped_img, 130, 1000)        \n",
    "    number_of_edges = np.count_nonzero(edges)\n",
    "if number_of_edges > 1000:\n",
    "    print(\"Wrinkle Found\")\n",
    "else:\n",
    "    print(\"No Wrinkle Found\")\n"
   ]
  },
  {
   "cell_type": "code",
   "execution_count": null,
   "metadata": {},
   "outputs": [],
   "source": [
    "import cv2\n",
    "import numpy as np\n",
    "from matplotlib import pyplot as plt\n",
    "from IPython.display import display, Image\n",
    "\n",
    "#creating facecascade\n",
    "face_cascade = cv2.CascadeClassifier(\"C:\\\\Users\\\\KUNAL AMBRE\\\\OneDrive\\\\Desktop\\\\Kunalll2\\\\Wrinkles-Detection-master\\\\haarcascade_frontalface_default.xml\")\n",
    "display(Image(filename=\"C:\\\\Users\\\\KUNAL AMBRE\\\\OneDrive\\\\Desktop\\\\Kunalll2\\\\Wrinkles-Detection-master\\\\Wrinkle Face.jpg\"))\n",
    "\n",
    "#loading image to matrix\n",
    "img = cv2.imread(\"C:\\\\Users\\\\KUNAL AMBRE\\\\OneDrive\\\\Desktop\\\\Kunalll2\\\\Wrinkles-Detection-master\\\\Wrinkle Face.jpg\")\n",
    "\n",
    "#converting into grayscale image\n",
    "gray_img = cv2.cvtColor(img, cv2.COLOR_BGR2GRAY)\n",
    "faces = face_cascade.detectMultiScale(gray_img, scaleFactor=1.05, minNeighbors=10)\n",
    "for x, y, w, h in faces:\n",
    "    cropped_img = img[y:y+h, x:x+w]\n",
    "    edges = cv2.Canny(cropped_img, 130, 1000)        \n",
    "    number_of_edges = np.count_nonzero(edges)\n",
    "if number_of_edges > 1000:\n",
    "    print(\"Wrinkle Found\")\n",
    "else:\n",
    "    print(\"No Wrinkle Found\")\n"
   ]
  },
  {
   "cell_type": "code",
   "execution_count": 9,
   "metadata": {},
   "outputs": [
    {
     "data": {
      "image/jpeg": "[encoded data removed]",
      "text/plain": [
       "<IPython.core.display.Image object>"
      ]
     },
     "metadata": {},
     "output_type": "display_data"
    },
    {
     "name": "stdout",
     "output_type": "stream",
     "text": [
      "No Wrinkle Found\n"
     ]
    }
   ],
   "source": [
    "import cv2\n",
    "import numpy as np\n",
    "from matplotlib import pyplot as plt\n",
    "from IPython.display import display, Image\n",
    "\n",
    "#creating facecascade\n",
    "face_cascade = cv2.CascadeClassifier(\"C:\\\\Users\\\\KUNAL AMBRE\\\\OneDrive\\\\Desktop\\\\Kunalll2\\\\Wrinkles-Detection-master\\\\haarcascade_frontalface_default.xml\")\n",
    "display(Image(filename=\"C:\\\\Users\\\\KUNAL AMBRE\\\\OneDrive\\\\Desktop\\\\Kunalll2\\\\Wrinkles-Detection-master\\\\face3.jpg\"))\n",
    "\n",
    "#loading image to matrix\n",
    "img = cv2.imread(\"C:\\\\Users\\\\KUNAL AMBRE\\\\OneDrive\\\\Desktop\\\\Kunalll2\\\\Wrinkles-Detection-master\\\\face3.jpg\")\n",
    "\n",
    "#converting into grayscale image\n",
    "gray_img = cv2.cvtColor(img, cv2.COLOR_BGR2GRAY)\n",
    "faces = face_cascade.detectMultiScale(gray_img, scaleFactor=1.05, minNeighbors=10)\n",
    "for x, y, w, h in faces:\n",
    "    cropped_img = img[y:y+h, x:x+w]\n",
    "    edges = cv2.Canny(cropped_img, 130, 1000)        \n",
    "    number_of_edges = np.count_nonzero(edges)\n",
    "if number_of_edges > 1000:\n",
    "    print(\"Wrinkle Found\")\n",
    "else:\n",
    "    print(\"No Wrinkle Found\")\n"
   ]
  },
  {
   "cell_type": "code",
   "execution_count": null,
   "metadata": {},
   "outputs": [],
   "source": []
  }
 ],
 "metadata": {
  "kernelspec": {
   "display_name": "Python 3 (ipykernel)",
   "language": "python",
   "name": "python3"
  },
  "language_info": {
   "codemirror_mode": {
    "name": "ipython",
    "version": 3
   },
   "file_extension": ".py",
   "mimetype": "text/x-python",
   "name": "python",
   "nbconvert_exporter": "python",
   "pygments_lexer": "ipython3",
   "version": "3.11.5"
  }
 },
 "nbformat": 4,
 "nbformat_minor": 4
}
